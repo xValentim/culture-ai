{
 "cells": [
  {
   "cell_type": "code",
   "execution_count": 12,
   "metadata": {},
   "outputs": [],
   "source": [
    "from dotenv import load_dotenv\n",
    "from langchain_community.vectorstores import FAISS\n",
    "from langchain_openai import ChatOpenAI\n",
    "from langchain_core.output_parsers import StrOutputParser\n",
    "from langchain_core.messages import SystemMessage, HumanMessage, AIMessage\n",
    "from langchain_core.prompts import ChatPromptTemplate\n",
    "from langchain_groq import ChatGroq\n",
    "\n",
    "\"\"\"\n",
    "\n",
    "Modelos disponíveis:\n",
    "\n",
    "- mixtral-8x7b-32768\n",
    "- llama-guard-3-8b -> Somente para guardrails\n",
    "- llama-3.2-90b-text-preview\n",
    "- llama3-70b-8192\n",
    "- llama-3.1-70b-versatile\n",
    "\n",
    "\"\"\"\n",
    "\n",
    "load_dotenv()\n",
    "\n",
    "# llm = ChatOpenAI(model=\"gpt-4o-mini\", temperature=0.2)\n",
    "llm = ChatGroq(model=\"llama-3.1-70b-versatile\", temperature=0)\n",
    "\n",
    "\n",
    "system_prompt = \"\"\"\n",
    "Você é um assistente de IA que vai tirar dúvidas de cultura geral do usuário. \n",
    "\n",
    "Aqui está o histórico da conversa:\n",
    "\n",
    "[Inicio do histórico]\n",
    "{chat_history}\n",
    "[Final do histórico]\n",
    "--------------------------------------------\n",
    "\"\"\"\n",
    "\n",
    "prompt = ChatPromptTemplate.from_messages(\n",
    "    [\n",
    "        (\"system\", system_prompt),\n",
    "        (\"human\", \"{input}\"),\n",
    "    ]\n",
    ")\n",
    "\n",
    "chain = prompt | llm | StrOutputParser()\n"
   ]
  },
  {
   "cell_type": "code",
   "execution_count": 13,
   "metadata": {},
   "outputs": [],
   "source": [
    "response = chain.invoke({'input': 'Quem foi o segundo presidente do Brasil?',\n",
    "                         'chat_history': ''}) "
   ]
  },
  {
   "cell_type": "code",
   "execution_count": 14,
   "metadata": {},
   "outputs": [
    {
     "data": {
      "text/plain": [
       "'O segundo presidente do Brasil foi Floriano Peixoto. Ele foi presidente de 23 de novembro de 1891 a 15 de novembro de 1894.'"
      ]
     },
     "execution_count": 14,
     "metadata": {},
     "output_type": "execute_result"
    }
   ],
   "source": [
    "response"
   ]
  },
  {
   "cell_type": "code",
   "execution_count": null,
   "metadata": {},
   "outputs": [],
   "source": []
  }
 ],
 "metadata": {
  "kernelspec": {
   "display_name": "env",
   "language": "python",
   "name": "python3"
  },
  "language_info": {
   "codemirror_mode": {
    "name": "ipython",
    "version": 3
   },
   "file_extension": ".py",
   "mimetype": "text/x-python",
   "name": "python",
   "nbconvert_exporter": "python",
   "pygments_lexer": "ipython3",
   "version": "3.10.11"
  }
 },
 "nbformat": 4,
 "nbformat_minor": 2
}
