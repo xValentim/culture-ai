{
 "cells": [
  {
   "cell_type": "code",
   "execution_count": 7,
   "metadata": {},
   "outputs": [],
   "source": [
    "from pydantic import BaseModel, Field\n",
    "from typing import List\n",
    "from langchain_groq import ChatGroq\n",
    "\n",
    "from langchain_openai import ChatOpenAI\n",
    "from langchain_core.prompts import ChatPromptTemplate\n",
    "\n",
    "model_name_groq = \"llama-3.2-90b-text-preview\"\n",
    "model_name_openai = \"gpt-4o-2024-08-06\"\n",
    "\"\"\"\n",
    "venus: https://lumalabs.ai/embed/18947f38-0421-47fa-bb20-51c658a144b7?mode=sparkles&background=%23ffffff&color=%23000000&cinematicVideo=undefined&showMenu=false\n",
    "\n",
    "amnesia/Flavio cerqueira: https://lumalabs.ai/embed/e6648ddb-3bc2-4f8e-84bb-12d42b4731bc?mode=sparkles&background=%23ffffff&color=%23000000&showTitle=true&loadBg=true&logoPosition=bottom-left&infoPosition=bottom-right&cinematicVideo=undefined&showMenu=false\n",
    "\n",
    "Gi: https://splat-vis-demo.up.railway.app/?url=https://huggingface.co/xValentim/splat-masp/resolve/main/hacka.splat?download=true\n",
    "\n",
    "\"\"\" \n",
    "\n",
    "mapping = {\n",
    "    \"venus\": \"https://lumalabs.ai/embed/18947f38-0421-47fa-bb20-51c658a144b7?mode=sparkles&background=%23ffffff&color=%23000000&cinematicVideo=undefined&showMenu=false\",\n",
    "    \"amnesia\": \"https://lumalabs.ai/embed/e6648ddb-3bc2-4f8e-84bb-12d42b4731bc?mode=sparkles&background=%23ffffff&color=%23000000&showTitle=true&loadBg=true&logoPosition=bottom-left&infoPosition=bottom-right&cinematicVideo=undefined&showMenu=false\",\n",
    "    \"gi\": \"https://splat-vis-demo.up.railway.app/?url=https://huggingface.co/xValentim/splat-masp/resolve/main/hacka.splat?download=true\",\n",
    "    \"none\": None\n",
    "}\n",
    "\n",
    "\n",
    "\n",
    "llm_openai = ChatOpenAI(\n",
    "    model=model_name_openai, # 100% json output\n",
    "    temperature=0,\n",
    ")\n",
    "\n",
    "llm_groq = ChatGroq(\n",
    "    model=model_name_groq, \n",
    "    temperature=0,\n",
    ")\n",
    "\n",
    "system_prompt = \"\"\"\n",
    "\n",
    "Você é um assistente de inteligência artificial que auxilia na classificação de quais obras o usuário quer ver um objeto 3D. O usuário fornece descrição e você precisa classificar qual objeto 3D ele deseja ver (ou se ele não deseja ver nenhum objeto). Os objetos que possuimos cenas 3D e que devem ser classificados são: venus, amnesia, gi e none.\n",
    "\n",
    "- venus: Se refere a Venus Victrix ou Vênus Vitoriosa de Pierre-Auguste Renoir.\n",
    "- amnesia: Se refere a Amnésia de Flávio Cerqueira.\n",
    "- gi: Se refere a giovanna moeller, uma desenvolvedora de software.\n",
    "- none: Se o usuário não deseja ver nenhum objeto.\n",
    "\n",
    "\"\"\"\n",
    "\n",
    "prompt = ChatPromptTemplate.from_messages(\n",
    "        [\n",
    "            (\"system\", system_prompt), \n",
    "            (\"human\", \"query do usuário: \\n\\n {query}\")\n",
    "        ]\n",
    ")\n",
    "\n",
    "\n",
    "\n",
    "class GetSchema(BaseModel):\n",
    "    \"\"\"Classifica qual objeto 3D o usuário deseja ver (ou se ele não deseja ver nenhum objeto)\"\"\"\n",
    "    \n",
    "    resultado: str = Field(description=\"Resultado da classificação do objeto 3D que o usuário deseja ver (ou se ele não deseja ver nenhum objeto)\", examples=['venus', 'amnesia', 'gi', 'none'])\n",
    "    \n",
    "\n",
    "llm_openai_with_tools_extraction = llm_openai.bind_tools([GetSchema]) #, strict=True)\n",
    "llm_groq_with_tools_extraction = llm_groq.with_structured_output(GetSchema)\n",
    "\n",
    "chain_openai_structured_extraction = prompt | llm_openai_with_tools_extraction\n",
    "chain_groq_structured_extraction = prompt | llm_groq_with_tools_extraction"
   ]
  },
  {
   "cell_type": "code",
   "execution_count": 9,
   "metadata": {},
   "outputs": [
    {
     "data": {
      "text/plain": [
       "'amnesia'"
      ]
     },
     "execution_count": 9,
     "metadata": {},
     "output_type": "execute_result"
    }
   ],
   "source": [
    "response_openai = chain_openai_structured_extraction.invoke({\"query\": \"Eu gostaria de ver a obra de Flávio Cerqueira.\"})\n",
    "response_openai.tool_calls[0]['args']['resultado']"
   ]
  },
  {
   "cell_type": "code",
   "execution_count": null,
   "metadata": {},
   "outputs": [
    {
     "data": {
      "text/plain": [
       "'amnesia'"
      ]
     },
     "execution_count": 11,
     "metadata": {},
     "output_type": "execute_result"
    }
   ],
   "source": [
    "response_groq = chain_groq_structured_extraction.invoke({\"query\": \"Eu gostaria de ver a obra de Flávio Cerqueira.\"})\n",
    "response_groq.resultado"
   ]
  },
  {
   "cell_type": "code",
   "execution_count": null,
   "metadata": {},
   "outputs": [],
   "source": [
    "def classifier_3d_object(query: str, model: str='groq'):\n",
    "    if model == 'groq':\n",
    "        try:\n",
    "            response_groq = chain_groq_structured_extraction.invoke({\"query\": query})\n",
    "            obra = response_groq.resultado\n",
    "            return mapping[obra]\n",
    "        except:\n",
    "            return None\n",
    "    else:\n",
    "        try:\n",
    "            response_openai = chain_openai_structured_extraction.invoke({\"query\": query})\n",
    "            obra = response_openai.tool_calls[0]['args']['resultado']\n",
    "            return mapping[obra]\n",
    "        except:\n",
    "            return None"
   ]
  },
  {
   "cell_type": "code",
   "execution_count": 15,
   "metadata": {},
   "outputs": [
    {
     "name": "stdout",
     "output_type": "stream",
     "text": [
      "https://lumalabs.ai/embed/e6648ddb-3bc2-4f8e-84bb-12d42b4731bc?mode=sparkles&background=%23ffffff&color=%23000000&showTitle=true&loadBg=true&logoPosition=bottom-left&infoPosition=bottom-right&cinematicVideo=undefined&showMenu=false\n",
      "https://splat-vis-demo.up.railway.app/?url=https://huggingface.co/xValentim/splat-masp/resolve/main/hacka.splat?download=true\n",
      "https://lumalabs.ai/embed/18947f38-0421-47fa-bb20-51c658a144b7?mode=sparkles&background=%23ffffff&color=%23000000&cinematicVideo=undefined&showMenu=false\n",
      "None\n",
      "None\n"
     ]
    }
   ],
   "source": [
    "print(classifier_3d_object(\"Eu gostaria de ver a obra de Flávio Cerqueira.\"))\n",
    "print(classifier_3d_object(\"Eu gostaria de ver a 3d de giovanna moeller.\"))\n",
    "print(classifier_3d_object(\"Eu gostaria de ver a obra de Pierre-Auguste Renoir.\"))\n",
    "print(classifier_3d_object(\"Eu adoro artes, me fale mais sobre o masp\"))\n",
    "print(classifier_3d_object(\"Olá\"))"
   ]
  },
  {
   "cell_type": "code",
   "execution_count": null,
   "metadata": {},
   "outputs": [],
   "source": []
  }
 ],
 "metadata": {
  "kernelspec": {
   "display_name": "env",
   "language": "python",
   "name": "python3"
  },
  "language_info": {
   "codemirror_mode": {
    "name": "ipython",
    "version": 3
   },
   "file_extension": ".py",
   "mimetype": "text/x-python",
   "name": "python",
   "nbconvert_exporter": "python",
   "pygments_lexer": "ipython3",
   "version": "3.10.11"
  }
 },
 "nbformat": 4,
 "nbformat_minor": 2
}
