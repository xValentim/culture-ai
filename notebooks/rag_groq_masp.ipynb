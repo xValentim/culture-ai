{
 "cells": [
  {
   "cell_type": "code",
   "execution_count": 3,
   "metadata": {},
   "outputs": [],
   "source": [
    "from dotenv import load_dotenv\n",
    "from langchain_community.vectorstores import FAISS\n",
    "from langchain_openai import ChatOpenAI, OpenAIEmbeddings\n",
    "from langchain_core.output_parsers import StrOutputParser\n",
    "from langchain_core.messages import SystemMessage, HumanMessage, AIMessage\n",
    "from langchain_core.prompts import ChatPromptTemplate\n",
    "from langchain_groq import ChatGroq\n",
    "from operator import itemgetter \n",
    "\n",
    "\"\"\"\n",
    "\n",
    "Modelos disponíveis:\n",
    "\n",
    "- mixtral-8x7b-32768\n",
    "- llama-guard-3-8b -> Somente para guardrails\n",
    "- llama-3.2-90b-text-preview\n",
    "- llama3-70b-8192\n",
    "- llama-3.1-70b-versatile\n",
    "\n",
    "\"\"\"\n",
    "\n",
    "load_dotenv()\n",
    "\n",
    "embeddings = OpenAIEmbeddings(\n",
    "    model=\"text-embedding-3-large\",\n",
    "    dimensions=1536\n",
    ")\n",
    "\n",
    "vdb_masp = FAISS.load_local(\"../vectorstore/masp\", \n",
    "                            embeddings, \n",
    "                            allow_dangerous_deserialization=True)\n",
    "\n",
    "retriever_masp = vdb_masp.as_retriever(search_kwargs={\"k\": 4})\n",
    "\n",
    "# llm = ChatOpenAI(model=\"gpt-4o-mini\", temperature=0.2)\n",
    "llm = ChatGroq(model=\"llama-3.1-70b-versatile\", temperature=0)\n",
    "\n",
    "\n",
    "system_prompt = \"\"\"\n",
    "Você é um assistente de IA que vai tirar dúvidas de cultura geral do usuário. \n",
    "\n",
    "Aqui está o histórico da conversa:\n",
    "\n",
    "[Inicio do histórico]\n",
    "{chat_history}\n",
    "[Final do histórico]\n",
    "\n",
    "Além disso, aqui está um contexto extra:\n",
    "\n",
    "[Contexto extra]\n",
    "{context_masp}\n",
    "[Final do contexto extra]\n",
    "--------------------------------------------\n",
    "\"\"\"\n",
    "\n",
    "prompt = ChatPromptTemplate.from_messages(\n",
    "    [\n",
    "        (\"system\", system_prompt),\n",
    "        (\"human\", \"{input}\"),\n",
    "    ]\n",
    ")\n",
    "\n",
    "chain = (\n",
    "    {\n",
    "        \"chat_history\": itemgetter(\"chat_history\"),\n",
    "        \"input\": itemgetter(\"input\"),\n",
    "        \"context_masp\": itemgetter(\"input\") | retriever_masp,\n",
    "    }\n",
    "    | prompt \n",
    "    | llm \n",
    "    | StrOutputParser()\n",
    ")\n"
   ]
  },
  {
   "cell_type": "code",
   "execution_count": 4,
   "metadata": {},
   "outputs": [
    {
     "name": "stdout",
     "output_type": "stream",
     "text": [
      "A Vênus Vitoriosa (Venus Victrix) é uma obra de arte criada em 1916, feita de bronze. Ela foi doada ao Museu de Arte de São Paulo (MASP) por Maria Helena Morganti em 1951.\n",
      "\n",
      "Infelizmente, não há muitas informações disponíveis sobre essa obra específica no contexto que você forneceu. No entanto, posso dizer que a Vênus Vitoriosa é uma representação da deusa romana Vênus, que era associada ao amor, à beleza e à vitória.\n",
      "\n",
      "A obra pode ter sido criada em estilo clássico ou neoclássico, com influências da arte antiga romana e grega. O bronze é um material comum para esculturas clássicas, e a técnica de fundição pode ter sido usada para criar a obra.\n",
      "\n",
      "Se você tiver mais informações sobre a obra ou o artista, posso tentar fornecer mais detalhes."
     ]
    }
   ],
   "source": [
    "async for chunk in chain.astream({\"input\": \"Me fale um pouco sobre a Venus Vitoriosa\",\n",
    "                                  \"chat_history\": \"\"}):\n",
    "    print(chunk, end=\"\", flush=True)"
   ]
  },
  {
   "cell_type": "code",
   "execution_count": 5,
   "metadata": {},
   "outputs": [
    {
     "name": "stdout",
     "output_type": "stream",
     "text": [
      "A sequência de Fibonacci! É uma das mais famosas e fascinantes sequências matemáticas da história.\n",
      "\n",
      "A sequência de Fibonacci é uma série de números em que cada termo é a soma dos dois termos anteriores, começando com 0 e 1. A sequência é assim:\n",
      "\n",
      "0, 1, 1, 2, 3, 5, 8, 13, 21, 34, 55, 89, 144, ...\n",
      "\n",
      "Essa sequência foi descoberta pelo matemático italiano Leonardo Fibonacci no século XIII, enquanto estudava a reprodução de coelhos. Ele notou que a sequência aparecia em muitos fenômenos naturais, como a disposição das folhas em um caule, a forma das conchas de moluscos e a estrutura dos cristais.\n",
      "\n",
      "A sequência de Fibonacci tem várias propriedades interessantes:\n",
      "\n",
      "1. **Razão áurea**: A razão entre dois termos consecutivos da sequência tende a se aproximar de um valor constante, conhecido como a razão áurea (φ). Esse valor é aproximadamente igual a 1,61803398875.\n",
      "2. **Recursividade**: A sequência de Fibonacci é recursiva, ou seja, cada termo pode ser calculado a partir dos dois termos anteriores.\n",
      "3. **Propriedades geométricas**: A sequência de Fibonacci aparece em muitas figuras geométricas, como triângulos, quadrados e pentágonos.\n",
      "4. **Aparição em natureza**: A sequência de Fibonacci aparece em muitos fenômenos naturais, como a disposição das folhas em um caule, a forma das conchas de moluscos e a estrutura dos cristais.\n",
      "\n",
      "A sequência de Fibonacci tem muitas aplicações práticas, como:\n",
      "\n",
      "1. **Finanças**: A sequência de Fibonacci é usada em análise técnica de mercado para prever tendências e identificar padrões.\n",
      "2. **Arquitetura**: A sequência de Fibonacci é usada em design de edifícios e monumentos para criar proporções harmoniosas.\n",
      "3. **Biologia**: A sequência de Fibonacci é usada para estudar a estrutura e o crescimento de organismos vivos.\n",
      "4. **Computação**: A sequência de Fibonacci é usada em algoritmos de busca e otimização.\n",
      "\n",
      "Em resumo, a sequência de Fibonacci é uma das mais fascinantes e úteis sequências matemáticas da história, com aplicações em muitas áreas da ciência e da vida cotidiana."
     ]
    }
   ],
   "source": [
    "async for chunk in chain.astream({\"input\": \"Me fale um pouco sobre sequencia de fibonacci\",\n",
    "                                  \"chat_history\": \"\"}):\n",
    "    print(chunk, end=\"\", flush=True)"
   ]
  },
  {
   "cell_type": "code",
   "execution_count": null,
   "metadata": {},
   "outputs": [],
   "source": []
  }
 ],
 "metadata": {
  "kernelspec": {
   "display_name": "env",
   "language": "python",
   "name": "python3"
  },
  "language_info": {
   "codemirror_mode": {
    "name": "ipython",
    "version": 3
   },
   "file_extension": ".py",
   "mimetype": "text/x-python",
   "name": "python",
   "nbconvert_exporter": "python",
   "pygments_lexer": "ipython3",
   "version": "3.10.11"
  }
 },
 "nbformat": 4,
 "nbformat_minor": 2
}
