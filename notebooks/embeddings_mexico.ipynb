{
 "cells": [
  {
   "cell_type": "code",
   "execution_count": 1,
   "metadata": {},
   "outputs": [],
   "source": [
    "\n",
    "with open(\"../data/parsed_results_acum.txt\", \"r\") as f:\n",
    "    data = f.read()"
   ]
  },
  {
   "cell_type": "code",
   "execution_count": 2,
   "metadata": {},
   "outputs": [],
   "source": [
    "content = data"
   ]
  },
  {
   "cell_type": "code",
   "execution_count": 4,
   "metadata": {},
   "outputs": [],
   "source": [
    "all_content_string = content"
   ]
  },
  {
   "cell_type": "code",
   "execution_count": 5,
   "metadata": {},
   "outputs": [],
   "source": [
    "from langchain_text_splitters import RecursiveCharacterTextSplitter"
   ]
  },
  {
   "cell_type": "code",
   "execution_count": 9,
   "metadata": {},
   "outputs": [],
   "source": [
    "text_splitter = RecursiveCharacterTextSplitter(\n",
    "    # Set a really small chunk size, just to show.\n",
    "    chunk_size=2_000,\n",
    "    chunk_overlap=500,\n",
    "    length_function=len,\n",
    "    is_separator_regex=False,\n",
    ")"
   ]
  },
  {
   "cell_type": "code",
   "execution_count": 10,
   "metadata": {},
   "outputs": [],
   "source": [
    "texts = text_splitter.create_documents([all_content_string])"
   ]
  },
  {
   "cell_type": "code",
   "execution_count": 11,
   "metadata": {},
   "outputs": [
    {
     "data": {
      "text/plain": [
       "3262"
      ]
     },
     "execution_count": 11,
     "metadata": {},
     "output_type": "execute_result"
    }
   ],
   "source": [
    "len(texts)"
   ]
  },
  {
   "cell_type": "code",
   "execution_count": 12,
   "metadata": {},
   "outputs": [],
   "source": [
    "from langchain_openai import OpenAIEmbeddings\n",
    "from langchain_community.vectorstores import FAISS\n",
    "\n",
    "embeddings = OpenAIEmbeddings(\n",
    "    model=\"text-embedding-3-large\",\n",
    "    dimensions=1536\n",
    ")"
   ]
  },
  {
   "cell_type": "code",
   "execution_count": 14,
   "metadata": {},
   "outputs": [],
   "source": [
    "db_mexico = FAISS.from_documents(texts, embeddings)"
   ]
  },
  {
   "cell_type": "code",
   "execution_count": 15,
   "metadata": {},
   "outputs": [],
   "source": [
    "db_mexico.save_local(\"../vectorstore/mexico\")"
   ]
  },
  {
   "cell_type": "code",
   "execution_count": 16,
   "metadata": {},
   "outputs": [],
   "source": [
    "embeddings = OpenAIEmbeddings(\n",
    "    model=\"text-embedding-3-large\",\n",
    "    dimensions=1536\n",
    ")\n",
    "\n",
    "vdb = FAISS.load_local(\"../vectorstore/mexico\", \n",
    "                       embeddings, \n",
    "                       allow_dangerous_deserialization=True)"
   ]
  },
  {
   "cell_type": "code",
   "execution_count": 17,
   "metadata": {},
   "outputs": [],
   "source": [
    "retriever = vdb.as_retriever(search_kwargs={\"k\": 4})"
   ]
  },
  {
   "cell_type": "code",
   "execution_count": 18,
   "metadata": {},
   "outputs": [
    {
     "data": {
      "text/plain": [
       "[Document(metadata={}, page_content='ANTIGUEDADES                                            MEXICANAS\\n                 pucs 0l poriodo que abrazan los lilros mas antiguos e  demasiado corto,\\n                                                                                        historia de todos los puchlos esta envuelta en las   tinieblas   dol  pasado,\\n                 comparado con la %poca lejana en que debio tener efecto la aparicion delsuperficic dcl planeta _\\n                 hombre sobre la\\n                     Los geologos, al cxaminar las capas que forman la costra  solida de la\\n                 tierra, han encontrado vestigios de los primncros habitantes, y csto ha ser-\\n                  vido paraclasilicar las epocas con los nomhrcs de < edad de piedra, edad\\nel progreso, lento, pero constante, de la espccic humana .de hronce, ctc-,> periodos mas 6 menos largos, quc  sirven para   marcar\\n    Ios arqueologos se ocupan tambicn de reconstruir ha historia de la humanidad , por\\nmedio de los monumentos, de las inseripcioncs, de las armas de piedra 6 dc bronce, de\\nlos fragmentos de arcilla que indican los toscos ensayos de los homhres; para proveerse\\nde los utensilios indispensahles en los usos domesticos.              La investigacion de las cosas an -\\ntiguas ha tomado incremento, so ha desarrollado  mucho cn el siglo presente, pues los\\nsabios han  comprendido la iportancia de esas investigacioncs, y el resultado viene &enriquecimiento de los museos con objctos valiosisimos, y la descifracion de jero _\\nser el\\nciones que poblaron la tierra hace muchos siglos.\\n                                                 glificos â‚¬ inscripciones, en que sc revela el adelanto & quc habian llegado las genera -\\nbros de antiguas ciudades y de los sepuleros de sus moradores; se han sacado  momias\\n                                                                                    El Egipto ha sido visitado, frecuentemente, pOr  viajcros ilustres, y de los escom -'),\n",
       " Document(metadata={}, page_content='bencficentisimo, que\\n  ciendlas cquC Vos soleisda1\", por\\' hicn V. JI: de dar\\' d gustar & cste pucblo las riquezas y ha-\\n  tento y regalo, aunque n0 semn sino pO1 hrevc tiempo y Como suciio quc pasa. > 6Que 1na-\\n  nera mas hermosa de adtaz\\' la iaigen (o los rayos de la luna, dulces y suaves, % que\\npor brece liempo dan conlento y regalo, con la idca de los biencs de csto mundo, que\\n  apenas Sc\\n  montaiins i los quc son  Vueslvos servilores; > Y presentasenOs & la imaginacion la Iunagustan Cuanclo Ja QaS;ron.  His adlelanlc 3 lo dicon al dios: <buscais otro las\\n  deslizando sus 1yos de plata por\\' cntre las quiclbas y harrancos do nucstras cordilleras.\\n               Ia terccra o1acion nOs da g1n ilea de la {dlosolia naloa; y no s0 crea que al ocu-\\n  parnos dc cslc plnto nos (lesviamos do nuestzo intento, quc nuestro objeto principal en\\n   este cstudio CS conoccr #glorias guerreras, cosns haslante sabidas, y qQuo vicncn repiliendose desdo cl primeraqquel g1an pueblo mexica, no ya en sus hcchos historicos Y e\\n   sus\\n   cronista del siglo IVI hasta cl ullimio historiador dc nuestros dias: nuestro ohjeto CS pe-aquellos puehlos , cnocor las fucrzns imperiosas que los impulsaban\\n   netrar en cl alma de\\n   en su vida social, Sahcr\\' lo quc pensaban y lo quc esperaban: los anales puedon decirnos\\n    de donde venian: penetrando C sus intimos pensamientos podremos saber adlonde que-\\n   rian ir                                     Esta es para mi la historia: solamente asi s0 conoce & un puehlo. decir que leComparolo\\n   yo &cualquiera persona quo & nuestra vista se presontare: {QQuion podria\\n    conocc unicamcnto con vcr\\' SU semblante, su traje mas 6 menos rico, con saler que tiene\\n    tal 6 cualposicion social, que gasta mayor\\' 6 menor renta, Y que se nombra fulano 6\\n    zutano? Sin duda que cstos son datos, pero acaso los menos importantes. Necesitariase\\n   saber principalmente que piensa y que siente. Los puellos, cmo los hombres, tienen'),\n",
       " Document(metadata={}, page_content='quiera\\n cual la mano del hombre ha hecho la cabeza de un cochino, cn sus dos cavidades de losincredulo, manifestare que soy poseedor de un sacro de caballo gigantesco, del\\nojos, sus dos orejas, ysu trompa con los dos\\n este hueso, al hacerse los tajos para el desagiie del Valle de Mexico, y estaba en terre-agujeros de las narices. 1 Fue encontrado\\n mentos de la materia en que de siglos atras estaba sepultado cmo libro que cuidado_\\n                                                                                    noposterciario entre los fosiles de aquella epoca: conserva aun en sus cavidades frag-\\n samente se guarda en una\\n dad de una raza y la historia de un mundo_ 2biblioteca, para que en dias solemnes se lca e el ka antigie -Simples huesos, cn rayas 6 senales de\\n instrumentos humanos, han bastado & los sabios de Europa para hacer constar la exis-posterciaria una ver_\\n tencia del homhre, 3 ynosotros tenemos como prueba de una raza\\n dadera escultura; de manera,  que en 0SOS tiempos remotisimos, no solamente vivian\\n hombres en nucstro territorio, sino que debieron gozar de una civilizacion relativamen-\\n te adelantada, supuesto que ya se dedicaban & la escultura, arte de ornato, y que prac _pueblos que han vencido las exigoncias dc la naturalaza, y que ya buscan lo\\n tican los\\nsuperfuo de la  vida civil, Tambien hay quo notar, que e susuperior al de los pueblos mas antiguos del Viejo Mundo:cronologia alcanzan los\\n nahoas un numero de aios\\n hemos visto que pasa de diez y ocho mil aios, cifra que reconoce Humboldt; mientrasllega & seis mil; y la\\n que de los pueblos historicos del otro Continente, el Egipto apenas\\n India no alcanza ni. esa cifra_          4 En tanto que los geroglificos_           nos den con numeros cla-\\n la reduccion de ese periodo, tenemos como prueha de la antigiedad de la raza la pin -'),\n",
       " Document(metadata={}, page_content='del camino de Chalchihuites & Sombrerete,Cerca (le un punto quc se conoce con cl nombrc de <La Escondida,> a la izquierdahay tambion rcstos de poblacioncs antiguas\\nterrados, pertenecientes & sus antiguos moradores.\\n                                                  y cuevas quc servian de halitaciones; se dlice que se encuentran algunos objetos e-\\n tantes para el esclarecimiento del origen y dc la civilizacion de las razas americanas;\\n                                                                                        Volvemos & repetirlo, nucstro suclo contiene  riquezns  arqueologicas muy impor-\\n y ya es tiempo de que sc fjc la atencion en csas antigiedades, pucs nadie mas intere -\\n sados, que los hijos de este continente, en conocer su origen y su historia.\\n    El Senor Baranda, actual Ministro de Justicia â‚¬ Instruccion publica, cuya ilustracion\\n ciones, pucs cl\\n                esnotoria, prestaria un servicio importante & la Nacion atendiendo estas ligeras indica-ticmpo todo lo destruye, y dentro de algunos aos, tal vcz, se hayan\\n deteriorado algunos objctos importantes que podria\\n Nacional.                                                          enriqueccr , ahora, nuestro Museo\\n                                                                    CARLos FERNANDEZ.\\n           SAHAGUN Y SU HISTORIA DE MEXICO.*\\n                 A Acadcmia Espaiola de la Historia trata de publicar un codice del P. Sa-\\n                 hagin, escrito en\\n                 intitula: De Mewico 6 la Nueva-Espana, obra conservada en la biblio-lengua  mexicana con   traduccion al castellano, que se\\n                 teca de dicha Academia y notabilisima por muchos conceptos   Acerca de\\n                 este   manuscrito ha informado eruditamente el Sr. D. Cayetano Rosell,\\n                 miembro de la expresada corporacion y director de la Biblioteca Nacional\\n                  En la Laurentina de Florencia   existe otro codice igual 6 acaso mas com-')]"
      ]
     },
     "execution_count": 18,
     "metadata": {},
     "output_type": "execute_result"
    }
   ],
   "source": [
    "retriever.invoke(\"yo quiero aprender sobre la historia de mexico\")"
   ]
  }
 ],
 "metadata": {
  "kernelspec": {
   "display_name": "env",
   "language": "python",
   "name": "python3"
  },
  "language_info": {
   "codemirror_mode": {
    "name": "ipython",
    "version": 3
   },
   "file_extension": ".py",
   "mimetype": "text/x-python",
   "name": "python",
   "nbconvert_exporter": "python",
   "pygments_lexer": "ipython3",
   "version": "3.10.11"
  }
 },
 "nbformat": 4,
 "nbformat_minor": 2
}
