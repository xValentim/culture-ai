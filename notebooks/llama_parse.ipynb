{
 "cells": [
  {
   "cell_type": "code",
   "execution_count": 13,
   "metadata": {},
   "outputs": [
    {
     "name": "stdout",
     "output_type": "stream",
     "text": [
      "Started parsing the file under job_id 13a023bd-e208-4b5b-b002-41e2b43f7b24\n"
     ]
    },
    {
     "data": {
      "text/plain": [
       "[Document(id_='510c3781-ff91-4e90-9b3d-4f4ed1c8a8c6', embedding=None, metadata={}, excluded_embed_metadata_keys=[], excluded_llm_metadata_keys=[], relationships={}, metadata_template='{key}: {value}', metadata_separator='\\n', text='                                                             ANALBS DBL MOSEO NAOIONAL                                                                                                             225\\n  berantes, carecian del trigo, la cebada y demas granos de la Europa: y que no veian la\\n  existencia de la vaca, del caballo, de la oveja y otros tantos animales utiles: por tanto;\\n  ocupara de resolver cuestiones tan vitales como las que nosotros iniciamos, y que para\\n                                                                                        nosotros crcemos que seria de grande interes que alguno de nuestros compatriotas se\\n  darles una solucion tomasen por base la naturaleza misma y los restos de los monumen-quedan: estos dos criterios, & nuestro juicio, serian los unicos que los condu-\\n  tos que nos\\n cirian &l descubrimiento de la verdad: la luz cientifica tiene que ser, mas adelante, la\\n  antorcha que disipe las tinieblas del pasado; tinicblas que por todas partes nos circundan;\\n para la humnanidad entera que en todos los ticmpos ha deseado senalar su origen de una\\n                                                                                       pero quecon el apoyo do todas las ciencias tendran que resolverse en una luz benefactora\\n  manera evidente.\\nLIGERA EXPLICACION DE LAS OTRAS FIGURAS DE LA LAMINA ADJUNTA,\\n                                                                                  POR G.                MENDOZA .\\nminical , Ileva tambien otras marcaclas con los numeros 3, k, 5 y 6: la primera de estas, represenla  una pi-\\n                                                                                                             Esa misma lamina que Ileva las figuras por medio de las que se explicaba & los   indigenas la Oracion do\\nJastra de las que habia en los dos grandes porlicos de los palacios de los Sumos Sacerdotes de que hemos he-\\ncho mencion en nuestro numerv anterior , Y los que estaban formando un gran triangulo, el que, como es s-\\nbido, era la [ormia por la que se representaha en todas las religiones la Trinidad: la   segunda representa un\\nDios de aquel pueblo construclor de las piramides en la Ciudad de los Dioses , 6 sea en la muy famosa Teoti-\\nmuchos siglos antes habian habitado en cstas altas regiones: este Dios fue hecho dc una traquita   anfibolica , Su\\n                                                                                                                  huacan; famosa no solo entre nosotros los hombres de la actualidad, sino aun entre los antiguos pueblos que\\nforma es de un paralelipipedo, Y Su altura es de 3\"19, y de 4\"83 en la base: nosotros hemos tomado es-\\ntas dimensiones, y despues las hemos visto rectifieadas en Ja (( Memoria de la Comision Cientifica de Pachu-\\nca,) y de alli hemos tomado Otro dato muy curioso, y es el peso de esa grande mole, que segun los calculos\\nfundados en la densidad de la roca y en el volumen, resulto ser aquel, de 16.318, 4 kiiogramos: actualmen-\\nsisima Ciudad: partiendo de la Ilamada Calle de los Muertos , este cumulo esta al Poniente y no muy distante\\n                                                                                                            te, la dicha Divinidad esta en pie & Ja base do uno de tantos cumulos que permanecen aun en aquella exten-\\npudieron ser? no lo podemos decir , porque la historia religiosa y civil de ese gran pueblo, se ha perdido en\\n                                                                                                             del triangulo misterioso: esta imagen, & primera vista   monstruosa, representa una 6 muchas ideas;; icuales\\nparaciones con las Deidades de otros pueblos , pode\\n                                                   las sombras del pasado como se ha perdido la de todas las naciones de este                     continente: mas haciendo com-\\nideas que pudo representar este Dios del Anahuac: los   que saben   la historia de las   religiones,lemos aventurar algunas   conjeturas respecto &  una de lasrecordaran:\\nque entre las Divinidades egipcias hay una que se Ilama\\nforma cuadrada , como Ja que Ileva tam bien nuestra Deidad teotihuacanteca: ese edificio para los sacerdotesAthor , la que Ileva   sobre la   cabeza un   edificio de\\nres; este era el modo de ver de la remota antigiedad, y hoy renacen aqucllas antiquisimas concepciones: y\\n                                                                                                         del Nilo era el emblema del Universo, y & la vez represenlaba el agua de donde han provenido todos los se-\\nbien, Dosotros decimos que para ls sacerdotes de la ciudad de los Dioses, el edificio cuadrado que pusieron\\nsobre la cabeza de su Divinidad, y que parece   agobiarla por , su  desmesurado peso, ` seguramente Ie daban\\n tambien el mismo significado que le dieron sus competidores en el gusto de envolver las ideas religiosas   en\\n  rarisimos emblemas\\n tenecia & las portadas de los palacios que varias veces hemos mencionado: la que tiene la forma de un.cono\\n                                                                                                           Las cuatro figuras que ahraza el ntmero cinco, representan cuatro piedras: la que Ileva unas: flores , per-\\n evidentemente representa el fuego , Io que indica que los habitantes de aquella Ciudad de los Muertos_ tam-\\n bien eran adoradores de aquel elemento de Ios antiguos filbsofos, y que segun ellos era el siritus intus alit ,', mimetype='text/plain', start_char_idx=None, end_char_idx=None, metadata_seperator='\\n', text_template='{metadata_str}\\n\\n{content}'),\n",
       " Document(id_='1b6596ca-0897-4d4c-8045-9dad602a9875', embedding=None, metadata={}, excluded_embed_metadata_keys=[], excluded_llm_metadata_keys=[], relationships={}, metadata_template='{key}: {value}', metadata_separator='\\n', text=\"        226                                                                        ANALES DEL MOSEO NACIONAL\\n era una alma infundida en todo el Universo , alma que, segun esos mismos  antiguos pensadorcs , era la que\\n le daba vida y movimiehto & todo lo que existo: esta fue  la doctrina que por  muchos   siglos  predomino en\\n toda ta antigiedad del Otro continenle , y Virgilio ha cantado en su Eneida 6, 0 en   admirables versos: aqui\\n tambien los pensadores de nuestro continente , han tenidlo las mismas concepciones acerca del fuego; y si los\\n cantos en los que celebrahan Su podcr y su inlluencia sohre todos los seres se han perdido, estan alli las rocas\\n en donde los sacerdotes filbsofos de Teotihuacan han grahado algunos atributos del sagrado fuego: por ulti-\\n mo, la figura sexta representa un friso que descubri6 el Sr. Pina , acreditado profesor de  nuestra   Academa\\n tionales y extranjeros: es una greca hastante sencilla , pero que revcla el principio del gusto por las nobles\\n                                                                                                               de bellas artes, en una   excursion quc hizo & las ruinas de nuestra ciudad ,                   hasta\\n artes.\\n                                                                                                    DISC URS 0\\n                                                                                                                      ACERCA DE L   PIEDRA LLAMIADA\\n                                      CALENDARIO MEXICANO\\n                                                                                                                                   PRONUNCIADO\\n                PoR  EL  PROFESOR  Pit;   VALENTINI, LL 30 DE  ABixIL   DE 4878 EV EL\\n                                                                 (New   YoRE), ANTE   UWA SOCIEDAD CErir[cO-ALEMA.VA _\\n               ARA que nuestros lectores se formen una idca  del interes que actualmente se ha\\n                   despertado en el extranjero por la Arqueologia mexicana, insertamos en seguida\\n                    la traduccion de este notable articulo_\\n                                                          G. MENDOZA .                                                                                                                                        P; GARZA:\\n                           8R, PRESIDENTE DE LA SESION, OARLOS SOHLEGDEL.\\n                                                      SRNORBS:\\n          Vosotros teneis la amabilidad de dirigir en esta noche vuestra atencion al discurso\\n para el cual vosotros bondadosamente me habeis invitado, aunque no soy miembro de esta\\nSociedad.\\n me he dedicado, tales como los geroglificos mexicanos, Y principalmente el Monumen-\\n                                                                                    El discurso tendra por  objeto ciertos estudios & los que, desde hace  mucho tiempo\\nto conocido hajo el nombre de la Piedra del Calendario Mexicano\\ncano, ademas de la explicacion del objeto, Y pudiera decirse del tema que el artista se pro-\\n                                                                                            Mi noticia sobre la ocasion & la cual debe su origen este Monumento del arto mexi-\\npuso representar en 8l; la desoripcion y el significado delos simbolos que se encuentranarmonico; finalmente, la exposicion de los medios\\n aisladamente y se reunen en un todoposible la interpretacion de ellos, todo esto reclama de vos-\\npor 'medio de los cuales se hacepaciencia y tiempo.\\ntado interesante:\\n                 otros                                                                   De esta manera, un tanto indirecta, llegaremos & un  resul-en   claro que esta piedra-calendario no ha  servido & los\\n                                                             se pondra\\nmexicanos, como se habia creido hasta ahora, para objetos altamente   cientificos, & sa-\\n\\n\\n\\n\\n\\n\\n\\n\\n\\n   hoy poco conocida por na -\\n\\n\\n\\n\\n\\n(RTPUBLICAN HALL'\", mimetype='text/plain', start_char_idx=None, end_char_idx=None, metadata_seperator='\\n', text_template='{metadata_str}\\n\\n{content}')]"
      ]
     },
     "execution_count": 13,
     "metadata": {},
     "output_type": "execute_result"
    }
   ],
   "source": [
    "# bring in our LLAMA_CLOUD_API_KEY\n",
    "from dotenv import load_dotenv\n",
    "load_dotenv()\n",
    "\n",
    "import nest_asyncio\n",
    "\n",
    "nest_asyncio.apply()\n",
    "\n",
    "from llama_parse import LlamaParse \n",
    "import json\n",
    "\n",
    "llamaparse = LlamaParse()\n",
    "parsed_result = llamaparse.load_data(\"../data/15.pdf\")\n",
    "\n",
    "parsed_result"
   ]
  }
 ],
 "metadata": {
  "kernelspec": {
   "display_name": "env",
   "language": "python",
   "name": "python3"
  },
  "language_info": {
   "codemirror_mode": {
    "name": "ipython",
    "version": 3
   },
   "file_extension": ".py",
   "mimetype": "text/x-python",
   "name": "python",
   "nbconvert_exporter": "python",
   "pygments_lexer": "ipython3",
   "version": "3.10.11"
  }
 },
 "nbformat": 4,
 "nbformat_minor": 2
}
