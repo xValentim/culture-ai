{
 "cells": [
  {
   "cell_type": "code",
   "execution_count": 1,
   "metadata": {},
   "outputs": [],
   "source": [
    "from langchain_community.document_loaders import PyPDFLoader\n",
    "\n",
    "loader = PyPDFLoader(\"../data/acervo_masp.pdf\")"
   ]
  },
  {
   "cell_type": "code",
   "execution_count": 2,
   "metadata": {},
   "outputs": [],
   "source": [
    "content = loader.load()"
   ]
  },
  {
   "cell_type": "code",
   "execution_count": 3,
   "metadata": {},
   "outputs": [],
   "source": [
    "all_content_string = \"\\n\".join([x.page_content for x in content])"
   ]
  },
  {
   "cell_type": "code",
   "execution_count": 4,
   "metadata": {},
   "outputs": [],
   "source": [
    "from langchain_text_splitters import RecursiveCharacterTextSplitter"
   ]
  },
  {
   "cell_type": "code",
   "execution_count": 8,
   "metadata": {},
   "outputs": [],
   "source": [
    "text_splitter = RecursiveCharacterTextSplitter(\n",
    "    # Set a really small chunk size, just to show.\n",
    "    chunk_size=2_000,\n",
    "    chunk_overlap=500,\n",
    "    length_function=len,\n",
    "    is_separator_regex=False,\n",
    ")"
   ]
  },
  {
   "cell_type": "code",
   "execution_count": 9,
   "metadata": {},
   "outputs": [],
   "source": [
    "texts = text_splitter.create_documents([all_content_string])"
   ]
  },
  {
   "cell_type": "code",
   "execution_count": 10,
   "metadata": {},
   "outputs": [
    {
     "data": {
      "text/plain": [
       "637"
      ]
     },
     "execution_count": 10,
     "metadata": {},
     "output_type": "execute_result"
    }
   ],
   "source": [
    "len(texts)"
   ]
  },
  {
   "cell_type": "code",
   "execution_count": 11,
   "metadata": {},
   "outputs": [],
   "source": [
    "from langchain_openai import OpenAIEmbeddings\n",
    "from langchain_community.vectorstores import FAISS\n",
    "\n",
    "embeddings = OpenAIEmbeddings(\n",
    "    model=\"text-embedding-3-large\",\n",
    "    dimensions=1536\n",
    ")"
   ]
  },
  {
   "cell_type": "code",
   "execution_count": 12,
   "metadata": {},
   "outputs": [],
   "source": [
    "db_masp = FAISS.from_documents(texts, embeddings)"
   ]
  },
  {
   "cell_type": "code",
   "execution_count": 13,
   "metadata": {},
   "outputs": [],
   "source": [
    "db_masp.save_local(\"../vectorstore/masp\")"
   ]
  },
  {
   "cell_type": "code",
   "execution_count": 14,
   "metadata": {},
   "outputs": [],
   "source": [
    "embeddings = OpenAIEmbeddings(\n",
    "    model=\"text-embedding-3-large\",\n",
    "    dimensions=1536\n",
    ")\n",
    "\n",
    "vdb = FAISS.load_local(\"../vectorstore/masp\", \n",
    "                       embeddings, \n",
    "                       allow_dangerous_deserialization=True)"
   ]
  },
  {
   "cell_type": "code",
   "execution_count": 15,
   "metadata": {},
   "outputs": [],
   "source": [
    "retriever = vdb.as_retriever(search_kwargs={\"k\": 4})"
   ]
  },
  {
   "cell_type": "code",
   "execution_count": 18,
   "metadata": {},
   "outputs": [
    {
     "data": {
      "text/plain": [
       "[Document(metadata={}, page_content='Vênus Vitoriosa (Venus Victrix) \\n[Venus Victorious (Venus Victrix)], 1916\\nBronze\\nDoação [Gift] Maria Helena Morganti, 1951\\nLimoges, França [France], 1841 – Cagnes-sur-\\nMer, França [France], 1919\\nFAVOR NÃO TOCAR \\nNAS OBRAS DE ARTE\\n[PLEASE DO NOT TOUCH \\nTHE ARTWORKS]\\nNo Brasil, a população negra em geral, e os jovens \\nnegros, em específico, vivem sob o impacto do racismo \\nque se revela, dentre outras facetas, na violência \\npolicial que os tem como alvo de constantes suspeitas. \\nEm 2018, em resposta à problemas de segurança \\npública, foi decretada uma intervenção federal, de \\ncaráter militar, na cidade do Rio de Janeiro, gerando \\ntemor de abusos e de práticas de violação dos direitos \\nhumanos. Como sobreviver a uma abordagem indevida \\né um vídeo protagonizado pelos próprios autores, três \\njovens negros que, diante desse clima de tensão, dão \\norientações sobre como evitar a morte por violência \\npolicial. A gravação foi realizada em formato para as \\nmídias sociais – numa linguagem acessível, didática \\ne assertiva – e amplamente compartilhada, tornando \\npública também a violência simbólica e psíquica \\nas quais esses jovens estão submetidos. Dados do \\nperíodo demonstram que 2018 foi o ano com o maior \\nnúmero de mortes causadas por policiais no Estado, \\nrecorde acompanhado pelo aumento de disparos \\npor armas de fogo e que afetaram de maneira \\ndesproporcional a população negra. Os dados são \\nalarmantes e, ainda assim, escondem que por trás dos \\nnúmeros tem pessoas (e suas famílias) preocupadas \\ncom a própria vida. O vídeo compôs o núcleo de \\ncotidianos da exposição Histórias afro-atlânticas e \\nrevela algo próprio ao início do século 21 – o celular \\ncomo artificio tanto de proteção e denúncia como de \\nviabilização de expressões estéticas e discursivas. \\nThe Brazilian black population in general, and black \\nyouth specifically, experience the impact of racism \\nthat is manifest, amongst many other forms, in \\nthe police violence that turns them into constant'),\n",
       " Document(metadata={}, page_content='the hips and abdomen; and a towering asparagus \\nfor the upper body and head. The title suggests a \\ndirect relationship with the international feminist \\nmovement Free the Nipple, which campaigns for \\nsexual freedom and gender equality, with activists \\ngoing topless in public to question why women’s naked \\nbreasts aren’t treated as naturally as men’s chests.\\nErika Verzutti\\nVenus Freethenipple [Vênus \\nLibereosmamilos], 2017\\nPapel machê e poliestireno [Papier maché and polystyrene]\\nDoação da artista [Gift of the artist], 2018\\nSão Paulo, Brasil [Brazil], 1971 – vive em \\n[lives in] São Paulo\\nAs esculturas e instalações de Erika Verzutti \\ncostumam associar elementos díspares, como frutas \\ne vegetais, a objetos imbuídos de valor simbólico, a \\nexemplo de totens, esculturas ritualísticas ou lápides. \\nSeu método tem início na fabricação de moldes e \\nréplicas a partir de elementos reais que a artista \\nmanipula, adicionando e modificando camadas \\nde materiais. Verzutti desenvolveu uma série de \\nobras que retomam a figura de Vênus. Nessas obras, \\nesculturas verticais aludindo a corpos femininos ou a \\nformas fálicas trazem alta carga erótica e uma crítica \\nbem -humorada ao ideal de beleza feminina construído \\npela história da arte. Obra comissionada pelo MASP \\nno contexto da exposição Histórias da sexualidade, em \\n2017, Vênus Libereosmamilos remete à emblemática \\nestatueta paleolítica Vênus de Willendorf, (25.000 a \\n20.000 a.C.), presente no acervo do Naturhistorisches \\nMuseum [Museu de História Natural], em Viena \\n— símbolo de fertilidade representado pelos seios \\ne ventre volumosos. A escultura de Verzutti, \\ncom papel machê e poliestireno, em acabamento \\nsemelhante ao da pedra calcária, apresenta três \\npartes sobrepostas: uma jaca, uma grande abóbora \\ne um aspargo gigante, que podem ser associadas \\nàs partes do corpo da estatueta antiga — pernas, \\ntronco e cabeça. O título sugere relação direta com \\no movimento ativista internacional feminista Free'),\n",
       " Document(metadata={}, page_content='um antídoto contra o esquecimento dessas histórias \\npara as quais devemos estar sempre atentos, daí seu \\ncaráter simbólico e materialmente indestrutível.\\nFAVOR NÃO TOCAR \\nNAS OBRAS DE ARTE\\n[PLEASE DO NOT TOUCH \\nTHE ARTWORKS]\\nErika Verzutti’s sculptures and installations tend to \\nassociate elements such as fruits and vegetables with \\nobjects and artifacts of symbolic value, including \\ntotems, ritualistic sculptures and headstones. Her \\nmethod starts with making molds and replicas of \\nreal things, which the artist modifies by adding \\nand modifying material layers. Verzutti developed \\na line of sculptures that relate to the theme of the \\nPaleolithic Venus, creating upright figures that evoke \\nthe female body or phallic forms with a palpable erotic \\ncharge, leveling a good-humored critique against the \\ndominant ideal of feminine beauty running through \\nart history. Commissioned by MASP for the exhibition \\nHistories of Sexuality in 2017, Venus Freethenipple is \\na take on the emblematic Willendorf Venus (25,000 \\nto 20,000 BC), housed at the Naturhistorisches \\nMuseum [Natural History Museum] in Vienna. The \\nchildbearing physique and voluminous breasts \\nsuggest that the Willendorf Venus was a Stone Age \\nfertility fetish. Verzutti’s sculpture, made in papier-\\nmâché and polystyrene, copies the texture of the \\nlimestone original, and evokes the different segments \\nof the body in fruit-and-vegetable representations: \\na jackfruit for the lower limbs, a large pumpkin for \\nthe hips and abdomen; and a towering asparagus \\nfor the upper body and head. The title suggests a \\ndirect relationship with the international feminist \\nmovement Free the Nipple, which campaigns for \\nsexual freedom and gender equality, with activists \\ngoing topless in public to question why women’s naked \\nbreasts aren’t treated as naturally as men’s chests.\\nErika Verzutti\\nVenus Freethenipple [Vênus \\nLibereosmamilos], 2017\\nPapel machê e poliestireno [Papier maché and polystyrene]'),\n",
       " Document(metadata={}, page_content='up until his death. Most of his sculptures are from \\nthis later period and were produced from 1913 with \\nthe help of the young artist Richard Guino (1890-\\n1973), who had worked with Aristide Maillol (1861-\\n1944), a sculptor that was close to the painter. Renoir \\nproduced the drafts and Guino translated them \\ninto models, which were then adapted as the artist \\nindicated points to be modified. During their five-\\nyear collaboration, they created fourteen sculptures. \\nLike Venus Victorious, most of these works derive \\nfrom the painting The Judgment of Paris, produced by \\nRenoir a few years earlier. It refers to the Greek myth \\nknown as the “apple of discord”, a dispute between \\nJuno (Hera), Minerva (Athena) and Venus (Aphrodite) \\nfor the golden apple destined for the fairest. Paris, \\na mortal young man who was summoned to solve \\nthe impasse, was seduced by Venus, who offered \\nhim true love in exchange, promising him Helen \\n(who later became known as Helen of Troy). In her \\nright hand, the Venus Victorious is holding the apple \\ngranted to her as acknowledgement of her beauty. \\nThe goddess’ face resembles Gabrielle Renard’s (1878-\\n1959), a cousin of Renoir’s wife, who took care of the \\ncouple’s children and was the artist’s main model \\nin his late period. Sculptures from this phase often \\ndepict washerwomen and female figures that parallel \\nthe bathers in his paintings. MASP also has twelve \\npaintings by Renoir, spanning his entire career.\\nPierre-Auguste Renoir\\nVênus Vitoriosa (Venus Victrix) \\n[Venus Victorious (Venus Victrix)], 1916\\nBronze\\nDoação [Gift] Maria Helena Morganti, 1951\\nLimoges, França [France], 1841 – Cagnes-sur-\\nMer, França [France], 1919\\nFAVOR NÃO TOCAR \\nNAS OBRAS DE ARTE\\n[PLEASE DO NOT TOUCH \\nTHE ARTWORKS]\\nNo Brasil, a população negra em geral, e os jovens \\nnegros, em específico, vivem sob o impacto do racismo \\nque se revela, dentre outras facetas, na violência \\npolicial que os tem como alvo de constantes suspeitas.')]"
      ]
     },
     "execution_count": 18,
     "metadata": {},
     "output_type": "execute_result"
    }
   ],
   "source": [
    "retriever.invoke(\"venus vitoriosa\")"
   ]
  },
  {
   "cell_type": "code",
   "execution_count": null,
   "metadata": {},
   "outputs": [],
   "source": []
  }
 ],
 "metadata": {
  "kernelspec": {
   "display_name": "env",
   "language": "python",
   "name": "python3"
  },
  "language_info": {
   "codemirror_mode": {
    "name": "ipython",
    "version": 3
   },
   "file_extension": ".py",
   "mimetype": "text/x-python",
   "name": "python",
   "nbconvert_exporter": "python",
   "pygments_lexer": "ipython3",
   "version": "3.10.11"
  }
 },
 "nbformat": 4,
 "nbformat_minor": 2
}
